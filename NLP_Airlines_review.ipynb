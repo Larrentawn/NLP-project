{
  "nbformat": 4,
  "nbformat_minor": 0,
  "metadata": {
    "colab": {
      "provenance": [],
      "toc_visible": true
    },
    "kernelspec": {
      "name": "python3",
      "display_name": "Python 3"
    },
    "language_info": {
      "name": "python"
    }
  },
  "cells": [
    {
      "cell_type": "markdown",
      "source": [
        "### Presentación del proyecto\n",
        "\n",
        "##**Objetivo**"
      ],
      "metadata": {
        "id": "xzB4gwuwanKZ"
      }
    },
    {
      "cell_type": "markdown",
      "source": [
        "Los aerolíneas juegan un rol muy importante en los movimientos de viaje y relaciones a nivel global, tanto por motivos laborales o de ocio.\n",
        "\n",
        "Las reseñas de éstas, se convirtieron en un estándar para orientar a los usuarios en la comparación al momento de elegir. Pero además, permiten a las aerolíneas, obtener un insight sobre la experiencia de los pasajeros, sus preferencias y el nivel de satisfacción en cada caso.\n",
        "<br><br>\n",
        "\n",
        "\n",
        "Con el acceso a herramientas e información que poseemos hoy en día, podemos categorizar miles de reseñas en etiquetas de sentimiento positivo, negativo, o neutral.\n",
        "\n",
        "El objetivo es trabajar este conjunto de datos con reseñas en texto de diversos hoteles, junto a una calificación de 1 a 5 (1 siendo muy negativo y 5 siendo muy positivo). A partir de esta clasificación, al obtener una reseña nueva, se puede predecir si ésta es positiva o negativa."
      ],
      "metadata": {
        "id": "-LhnW5JudMDZ"
      }
    },
    {
      "cell_type": "markdown",
      "source": [
        "###Contenido del dataset"
      ],
      "metadata": {
        "id": "yekr3mhRCQkn"
      }
    },
    {
      "cell_type": "markdown",
      "source": [
        "####Columnas\n",
        "\n",
        "**Airline Name** = Nombre de la Aerolínea\n",
        "\n",
        "**Overall Rating** = Calificación total\n",
        "\n",
        "**Review Title** = Titulo de la reseña\n",
        "\n",
        "**Review Date** = Fecha de la reseña\n",
        "\n",
        "**Verified** = Si la reseña está verificada o no\n",
        "\n",
        "**Review** = Texto de la reseña\n",
        "\n",
        "**Aircraft** = Tipo de avión\n",
        "\n",
        "**Type of Traveller** = Tipo de pasajero\n",
        "\n",
        "**Seat Type** = Tipo de asiento\n",
        "\n",
        "**Route** = Ruta de viaje\n",
        "\n",
        "**Date Flown** = Fecha de vuelo\n",
        "\n",
        "**Seat Comfort** = Calificación de comodidad del asiento\n",
        "\n",
        "**Cabin Staff Service** = Calificación del staff de cabina\n",
        "\n",
        "**Food & Beverages** = Calificación de la comida y bebida\n",
        "\n",
        "**Ground Service** = Calificación del servicio en tierra\n",
        "\n",
        "**Inflight Entertainment** = Calificación del entretenimiento en el vuelo\n",
        "\n",
        "**Wifi & Connectivity** = Calificación de WiFi y conectividad\n",
        "\n",
        "**Value for Money** = Calificación de relación precio/calidad\n",
        "\n",
        "**Recommended** = Recomendado si/no\n"
      ],
      "metadata": {
        "id": "NRa6WO70N7Cw"
      }
    },
    {
      "cell_type": "markdown",
      "source": [
        "####Citaciones\n",
        "\n",
        "Recopilación por Juhi Bhojani y subido en Kaggle y Github\n",
        "\n",
        "https://www.kaggle.com/datasets/juhibhojani/airline-reviews\n",
        "\n",
        "https://github.com/Juhibhojani/Airline-Reviews-\n",
        "\n",
        "Las reviews de aerolíneas de este dataset fueron obtenidas por el autor desde:\n",
        "\n",
        "https://www.airlinequality.com/review-pages/a-z-airline-reviews/"
      ],
      "metadata": {
        "id": "LAdiuCtjN_RC"
      }
    },
    {
      "cell_type": "markdown",
      "source": [
        "### **Lectura de datos**"
      ],
      "metadata": {
        "id": "8wLoKhWWaqNa"
      }
    },
    {
      "cell_type": "markdown",
      "source": [
        "**Librerias necesarias**"
      ],
      "metadata": {
        "id": "0Pe1ER-7cSiB"
      }
    },
    {
      "cell_type": "code",
      "source": [
        "import pandas as pd\n",
        "import numpy as np\n",
        "import datetime as dt\n",
        "from collections import Counter\n",
        "import re\n",
        "\n",
        "import matplotlib.pyplot as plt\n",
        "from wordcloud import WordCloud\n",
        "import seaborn as sns\n",
        "\n",
        "import spacy\n",
        "\n",
        "#TF-IDF\n",
        "from sklearn.feature_extraction.text import CountVectorizer\n",
        "from sklearn.feature_extraction.text import TfidfVectorizer\n",
        "\n",
        "#Modelos\n",
        "from sklearn.model_selection import train_test_split\n",
        "from sklearn.metrics import classification_report\n",
        "from sklearn.linear_model import LogisticRegression\n",
        "from sklearn.ensemble import RandomForestClassifier\n",
        "from xgboost import XGBClassifier\n",
        "from sklearn.pipeline import Pipeline\n",
        "from sklearn.model_selection import GridSearchCV\n",
        "\n",
        "from textblob import TextBlob\n",
        "\n",
        "#NLTK\n",
        "import nltk\n",
        "from nltk.tokenize import word_tokenize, sent_tokenize\n",
        "from nltk.corpus import stopwords\n",
        "from nltk import pos_tag\n",
        "from nltk.stem import WordNetLemmatizer, PorterStemmer\n",
        "from nltk.util import ngrams\n",
        "import string\n",
        "\n",
        "nltk.download('punkt')  # Tokenizers\n",
        "nltk.download('punkt_tab')\n",
        "nltk.download('stopwords')  # Stop words\n",
        "nltk.download('wordnet')  # WordNet lemmatizer\n",
        "nltk.download('averaged_perceptron_tagger_eng')"
      ],
      "metadata": {
        "id": "FshYZ8_0cR0U"
      },
      "execution_count": null,
      "outputs": []
    },
    {
      "cell_type": "code",
      "source": [
        "url = \"https://raw.githubusercontent.com/Larrentawn/NLP-project/refs/heads/main/Airline_review.csv\"\n",
        "df = pd.read_csv(url, sep=\",\")"
      ],
      "metadata": {
        "id": "WI7r7GcPaxfv"
      },
      "execution_count": null,
      "outputs": []
    },
    {
      "cell_type": "code",
      "source": [
        "nlp = spacy.load(\"en_core_web_sm\")"
      ],
      "metadata": {
        "id": "U_dG1QCspKht"
      },
      "execution_count": null,
      "outputs": []
    },
    {
      "cell_type": "markdown",
      "source": [
        "##**Análisis inicial**"
      ],
      "metadata": {
        "id": "iKtGzziecpLH"
      }
    },
    {
      "cell_type": "code",
      "source": [
        "df.head()"
      ],
      "metadata": {
        "id": "lTis7QCwceYm"
      },
      "execution_count": null,
      "outputs": []
    },
    {
      "cell_type": "markdown",
      "source": [
        "Podemos observar algunos de los valores que tenemos en el dataset, asi como sus columnas. Algo que podemos ver a simple vista es que las fechas estan en formato escrito."
      ],
      "metadata": {
        "id": "7tofSggYNACc"
      }
    },
    {
      "cell_type": "code",
      "source": [
        "df.shape"
      ],
      "metadata": {
        "id": "BbbKt-49q58z"
      },
      "execution_count": null,
      "outputs": []
    },
    {
      "cell_type": "code",
      "source": [
        "df.describe()"
      ],
      "metadata": {
        "id": "4o9rrZwUtzYT"
      },
      "execution_count": null,
      "outputs": []
    },
    {
      "cell_type": "markdown",
      "source": [
        "Vemos datos como la media y la desviación estandar."
      ],
      "metadata": {
        "id": "7owqWEFAuF7P"
      }
    },
    {
      "cell_type": "code",
      "source": [
        "df.dtypes"
      ],
      "metadata": {
        "id": "Q2LAv2O30FIj"
      },
      "execution_count": null,
      "outputs": []
    },
    {
      "cell_type": "markdown",
      "source": [
        "Podemos ver varias cosas, los nombres de las columnas tienen mayúsculas, símbolos y espacios.\n",
        "\n",
        "La columna **Overall Rating** es de tipo **object** en lugar de **int** o **float** y los de columna temporal que nos interesa **(Review Date)** es también de tipo object en lugar de **datetime**. También la variable de **Recommended** que es si/no."
      ],
      "metadata": {
        "id": "KtINZ2n14wSc"
      }
    },
    {
      "cell_type": "code",
      "source": [
        "pd.set_option('display.max_colwidth', None)\n",
        "df.describe(include=\"O\").T"
      ],
      "metadata": {
        "id": "begE7qi-QtJr"
      },
      "execution_count": null,
      "outputs": []
    },
    {
      "cell_type": "markdown",
      "source": [
        "Se puede ver más en profundidad las columnas de tipo **Object**, un conteo de valores unicos, el top y su frecuencia.\n",
        "\n",
        "Vemos que las calificaciones **(overall_rating)** casi la mitad de los valores son 1, es decir posee muchisimas calificaciones negativas.\n",
        "\n",
        "Las variables **type_of_traveller**, **seat_type** y **recommended** podrian ser codificadas en categorias numericas.\n",
        "Tambien con la variable **overall_rating**."
      ],
      "metadata": {
        "id": "v5vd2XApQ0i-"
      }
    },
    {
      "cell_type": "markdown",
      "source": [
        "Se procede a normalizar los nombres de las columnas"
      ],
      "metadata": {
        "id": "VXr3lRNNQwz8"
      }
    },
    {
      "cell_type": "code",
      "source": [
        "df.columns = [col.replace(\" \", \"_\").lower() for col in df.columns]\n",
        "df.dtypes"
      ],
      "metadata": {
        "id": "LqrfrNlD4cSa"
      },
      "execution_count": null,
      "outputs": []
    },
    {
      "cell_type": "code",
      "source": [
        "df['overall_rating'].unique()"
      ],
      "metadata": {
        "id": "2zkNXtJLZ87g"
      },
      "execution_count": null,
      "outputs": []
    },
    {
      "cell_type": "markdown",
      "source": [
        "En las calificaciones encontramos el valor 'n', el cual probablemente sea null.\n",
        "Podemos ver un aproximado de donde podria ser alineada esta no-calificacion con algunos indicadores.\n"
      ],
      "metadata": {
        "id": "IF_ekBFDaBDf"
      }
    },
    {
      "cell_type": "code",
      "source": [
        "#Podemos leer algunas de las reseñas con este valor 'n'\n",
        "\n",
        "df[df['overall_rating'] == 'n'][['review', 'overall_rating']].sample(5)"
      ],
      "metadata": {
        "id": "m1KeR9AIgUKW"
      },
      "execution_count": null,
      "outputs": []
    },
    {
      "cell_type": "markdown",
      "source": [
        "Tambien podemos ver si respondió si recomendaría o no la aerolinea"
      ],
      "metadata": {
        "id": "VkHfM_rYjIum"
      }
    },
    {
      "cell_type": "code",
      "source": [
        "#Se filtra por respuesta 'n' en rating\n",
        "df_overall_rating_n = df[df['overall_rating'] == 'n']\n",
        "\n",
        "#Visualizacion de respuesta de recomienda si o no\n",
        "plt.figure(figsize=(6,4))\n",
        "sns.countplot(data=df_overall_rating_n, x='recommended')\n",
        "plt.title('Recommend (Sí/No) cuando overall_rating = \"n\"')\n",
        "plt.xlabel('Recommend')\n",
        "plt.ylabel('Cantidad')\n",
        "plt.show()\n"
      ],
      "metadata": {
        "id": "Z5KhTjaziBji"
      },
      "execution_count": null,
      "outputs": []
    },
    {
      "cell_type": "markdown",
      "source": [
        "Vemos entonces que la mayoria de las 'n' serian tambien calificaciones negativas (1, 2, 3)\n",
        "\n",
        "Procedemos a reemplazar 'n' con la mediana."
      ],
      "metadata": {
        "id": "85mawUt4jR7A"
      }
    },
    {
      "cell_type": "code",
      "source": [
        "#Convertimos en numérico\n",
        "df['overall_rating'] = pd.to_numeric(df['overall_rating'], errors='coerce')\n",
        "\n",
        "#Calculamos la mediana\n",
        "overall_rating_median = df['overall_rating'].median()\n",
        "print(overall_rating_median)"
      ],
      "metadata": {
        "id": "0sKkshrwKoY7"
      },
      "execution_count": null,
      "outputs": []
    },
    {
      "cell_type": "code",
      "source": [
        "#Reemplazamos los nulos con la mediana\n",
        "df['overall_rating'].fillna(round(overall_rating_median), inplace=True)\n",
        "df['overall_rating'] = df['overall_rating'].astype(int) #Convertimos a enteros"
      ],
      "metadata": {
        "id": "35PDLiPhiKnU"
      },
      "execution_count": null,
      "outputs": []
    },
    {
      "cell_type": "code",
      "source": [
        "#Verificamos los valores unicos\n",
        "df['overall_rating'].unique()"
      ],
      "metadata": {
        "id": "8Fs432LuJSh0"
      },
      "execution_count": null,
      "outputs": []
    },
    {
      "cell_type": "markdown",
      "source": [
        "Se eliminan columnas irrelevantes"
      ],
      "metadata": {
        "id": "sWxMPW8Y474e"
      }
    },
    {
      "cell_type": "code",
      "source": [
        "df.drop([\"unnamed:_0\", \"aircraft\",\"route\",\"date_flown\"], axis=1, inplace=True)"
      ],
      "metadata": {
        "id": "Dv4iCkBX4gFY"
      },
      "execution_count": null,
      "outputs": []
    },
    {
      "cell_type": "markdown",
      "source": [
        "Condicionales para ayudar en el formateo de la columna de fecha"
      ],
      "metadata": {
        "id": "mOBmXQ5IMF9s"
      }
    },
    {
      "cell_type": "code",
      "source": [
        "df['review_date'] = [col.replace(\"nd\",\"\") if \"nd\" in col else col for col in df['review_date'].values]\n",
        "df['review_date'] = [col.replace(\"th\",\"\") if \"th\" in col else col for col in df['review_date'].values]\n",
        "df['review_date'] = [col.replace(\"st\",\"\") if \"st\" in col else col for col in df['review_date'].values]\n",
        "df['review_date'] = [col.replace(\"rd\",\"\") if \"rd\" in col else col for col in df['review_date'].values]\n",
        "\n",
        "df['review_date'] = [col.replace(\"August\",\"Augu\") if \"August\" in col else col for col in df['review_date'].values]\n",
        "df['review_date'] = [col.replace(\"Augu\",\"August\") if \"Augu\" in col else col for col in df['review_date'].values]\n",
        "\n",
        "df['review_date'] = pd.to_datetime(df['review_date'])\n",
        "df['review_date']"
      ],
      "metadata": {
        "id": "TqKGS5GU3haX"
      },
      "execution_count": null,
      "outputs": []
    },
    {
      "cell_type": "code",
      "source": [
        "# Verificación de nulos\n",
        "df.isnull().sum()"
      ],
      "metadata": {
        "id": "JtZVN7dtunIF"
      },
      "execution_count": null,
      "outputs": []
    },
    {
      "cell_type": "markdown",
      "source": [
        "####Verificación de duplicados"
      ],
      "metadata": {
        "id": "Bqtos78E0Wvk"
      }
    },
    {
      "cell_type": "code",
      "source": [
        "print(df.duplicated().sum())"
      ],
      "metadata": {
        "id": "8gPFO8Nf0Tbs"
      },
      "execution_count": null,
      "outputs": []
    },
    {
      "cell_type": "code",
      "source": [
        "#Se eliminan duplicados y se vuelve a verificar\n",
        "df.drop_duplicates(inplace=True)\n",
        "print(df.duplicated().sum())"
      ],
      "metadata": {
        "id": "j5mEWXJXciP3"
      },
      "execution_count": null,
      "outputs": []
    },
    {
      "cell_type": "markdown",
      "source": [
        "##EDA"
      ],
      "metadata": {
        "id": "CrdiOMVd0cWj"
      }
    },
    {
      "cell_type": "code",
      "source": [
        "df.hist(figsize=[10,8], bins=14)"
      ],
      "metadata": {
        "id": "Ym4e9z9Vss0S"
      },
      "execution_count": null,
      "outputs": []
    },
    {
      "cell_type": "markdown",
      "source": [
        "Vemos que hay una gran cantidad de reseñas fueron hechas en los ultimos años, y que hay muchas reseñas de 1 estrella en varias de las categorias.\n",
        "La categoria de Staff y servicio de cabina es la que mas califcaciones positivas posee."
      ],
      "metadata": {
        "id": "ut-4REOjtDKl"
      }
    },
    {
      "cell_type": "code",
      "source": [
        "#Distribucion de calificaciones\n",
        "plt.figure(figsize=(4,3))\n",
        "plt.title(\"Distribucion de calificaciones totales\")\n",
        "sns.set_style(\"darkgrid\")\n",
        "sns.countplot(df,x='overall_rating')"
      ],
      "metadata": {
        "id": "q4a7zMz8fznI"
      },
      "execution_count": null,
      "outputs": []
    },
    {
      "cell_type": "code",
      "source": [
        "plt.title(\"Calificacion de precio-calidad por calificacion total\")\n",
        "sns.set_style(\"darkgrid\")\n",
        "sns.violinplot(df, x='overall_rating', y='value_for_money')"
      ],
      "metadata": {
        "id": "D0HIQfaTdTbn"
      },
      "execution_count": null,
      "outputs": []
    },
    {
      "cell_type": "markdown",
      "source": [
        "Observamos correlación en que a mayor calificacion relacion calidad-precio, mayor calificacion total. Hay una tendencia clara."
      ],
      "metadata": {
        "id": "is6Af_oXNu6X"
      }
    },
    {
      "cell_type": "code",
      "source": [
        "#Distribucion de recommended\n",
        "plt.figure(figsize=(4,3))\n",
        "plt.title(\"Distribucion de recomienda si/no\")\n",
        "sns.set_style(\"darkgrid\")\n",
        "sns.countplot(df,x='recommended')"
      ],
      "metadata": {
        "id": "2LOvx6yqOvgz"
      },
      "execution_count": null,
      "outputs": []
    },
    {
      "cell_type": "code",
      "source": [
        "# Conversion de la columna Recommended de Yes/no a 1 y 0 respectivamente\n",
        "df[\"recommended\"] = df[\"recommended\"].map(dict(yes=1, no=0))\n",
        "print(df[[\"recommended\"]].to_string())"
      ],
      "metadata": {
        "id": "xwcLR-mhEu-R"
      },
      "execution_count": null,
      "outputs": []
    },
    {
      "cell_type": "code",
      "source": [
        "# Selección de columnas numéricas y de texto\n",
        "\n",
        "df_num = df[[\"overall_rating\", \"review_date\", \"verified\",\n",
        "\"seat_comfort\", \"cabin_staff_service\", \"food_&_beverages\",\n",
        "\"ground_service\", \"inflight_entertainment\", \"wifi_&_connectivity\", \"value_for_money\", \"recommended\"]]\n",
        "\n",
        "df_text = df[[\"review\", \"type_of_traveller\", \"seat_type\"]]"
      ],
      "metadata": {
        "id": "F11FWCPA_oIq"
      },
      "execution_count": null,
      "outputs": []
    },
    {
      "cell_type": "code",
      "source": [
        "print(df.columns)"
      ],
      "metadata": {
        "id": "hwlxEE5KJqM6"
      },
      "execution_count": null,
      "outputs": []
    },
    {
      "cell_type": "code",
      "source": [
        "df['airline_name'].value_counts().reset_index()"
      ],
      "metadata": {
        "id": "VcHvbmo0zAVU"
      },
      "execution_count": null,
      "outputs": []
    },
    {
      "cell_type": "code",
      "source": [
        "# Recuento de cantidad de reviews por aerolinea\n",
        "df['airline_review_count'] = df.groupby('airline_name')['airline_name'].transform('count')\n",
        "df[['airline_name', 'airline_review_count']].drop_duplicates().sort_values('airline_review_count', ascending=False)"
      ],
      "metadata": {
        "id": "Ewbj4Wl8a9BV"
      },
      "execution_count": null,
      "outputs": []
    },
    {
      "cell_type": "code",
      "source": [
        "# Visualizacion del recuento de reviews por aerolinea (top 250)\n",
        "\n",
        "df_airlines = df['airline_name'].value_counts().head(250).reset_index()\n",
        "df_airlines.columns = ['airline_name', 'airline_review_count']\n",
        "\n",
        "plt.figure(figsize=(25, 9))\n",
        "sns.barplot(data=df_airlines, y='airline_review_count', x='airline_name', palette='viridis', hue='airline_name', legend=False)\n",
        "plt.xticks(rotation=90, fontsize=9)\n",
        "\n",
        "plt.title('Cantidad de Reseñas por Aerolínea')\n",
        "plt.xlabel('Cantidad de Reseñas')\n",
        "plt.ylabel('Aerolínea')\n",
        "plt.tight_layout()\n",
        "plt.show()"
      ],
      "metadata": {
        "id": "3cxo03AGw520"
      },
      "execution_count": null,
      "outputs": []
    },
    {
      "cell_type": "markdown",
      "source": [
        "Vemos que las primeras 150 aerolineas poseen 100 reseñas cada una,, y luego va en disminución."
      ],
      "metadata": {
        "id": "Xci1Qurm5ti9"
      }
    },
    {
      "cell_type": "code",
      "source": [
        "df_name_rev_count = df.groupby(\"airline_name\").mean(numeric_only=True).drop(columns=[\"airline_review_count\"]).reset_index()\n",
        "df_name_rev_count"
      ],
      "metadata": {
        "id": "J0UZwixK34Yx"
      },
      "execution_count": null,
      "outputs": []
    },
    {
      "cell_type": "code",
      "source": [
        "# merge de los dos dataframes con el recuento de aerolineas y los ratings\n",
        "df_summ = pd.merge(\n",
        "    df_airlines,\n",
        "    df_name_rev_count,\n",
        "    how=\"inner\",\n",
        "    on='airline_name')\n",
        "df_summ.head()"
      ],
      "metadata": {
        "id": "yVSM6LJE387i"
      },
      "execution_count": null,
      "outputs": []
    },
    {
      "cell_type": "code",
      "source": [
        "# Visualización de los ratings y la calificacion de precio-calidad\n",
        "sns.set_theme(style=\"whitegrid\")\n",
        "plt.subplots(figsize=(8,6))\n",
        "sns.scatterplot(df_summ, x=\"value_for_money\", y=\"overall_rating\",\n",
        "                 size='airline_review_count', hue='verified')\n",
        "plt.title(\"Promedio de rating por promedio de precio-calidad\")\n",
        "plt.xlabel('Valoración calidad-precio')\n",
        "plt.ylabel('Calificación total')\n",
        "plt.tight_layout()\n",
        "plt.show()"
      ],
      "metadata": {
        "id": "TKNIgDatIzvc"
      },
      "execution_count": null,
      "outputs": []
    },
    {
      "cell_type": "markdown",
      "source": [
        "Vemos en mayor detalle la correlación que existe entre la calificacion promedio de cada aerolinea y el promedio de calificacion calidad-precio.\n",
        "La cantidad de reseñas se puede ver con el tamaño de cada circulo y el color indica cuantas de esas reseñas estan verificadas por el sitio."
      ],
      "metadata": {
        "id": "yU71MQSf6SH6"
      }
    },
    {
      "cell_type": "code",
      "source": [
        "plt.title(\"Calificacion de precio-calidad por calificacion total\")\n",
        "sns.set_style(\"darkgrid\")\n",
        "sns.violinplot(df, y='overall_rating', x='recommended')"
      ],
      "metadata": {
        "id": "Zlu-4JpiIpHU"
      },
      "execution_count": null,
      "outputs": []
    },
    {
      "cell_type": "markdown",
      "source": [
        "Vemos tambien una relacion entre la calificacion total y la recomendacion o no recomendacion de la aerolinea"
      ],
      "metadata": {
        "id": "qYhkgZbH3I2s"
      }
    },
    {
      "cell_type": "code",
      "source": [
        "df_num = df_num.drop(columns=[\"review_date\"])\n",
        "print(df_num.columns)\n",
        "print(df_num.columns.names)"
      ],
      "metadata": {
        "id": "-5Rj2shtD3H9"
      },
      "execution_count": null,
      "outputs": []
    },
    {
      "cell_type": "code",
      "source": [
        "corr = df_num.corr()\n",
        "\n",
        "used_columns = df_num.columns[df_num.columns.isin(corr.columns)]\n",
        "\n",
        "df_corr = df_num[used_columns]\n",
        "corr_matrix = df_corr.corr()\n",
        "\n",
        "# Graficar con números\n",
        "plt.figure(figsize=(8, 8))\n",
        "sns.heatmap(corr_matrix, annot=True, fmt=\".2f\", cmap=\"vlag\", center=0, linewidths=.75)\n"
      ],
      "metadata": {
        "id": "CMEGO5nhNtLA"
      },
      "execution_count": null,
      "outputs": []
    },
    {
      "cell_type": "markdown",
      "source": [
        "Vemos en la matriz de correlaciones que la mayor correlacion se puede encontrar entre value_for_money (precio-calidad), y recommended. Tambien entre otras calificaciones de servicio en aeropuerto y value_for_money."
      ],
      "metadata": {
        "id": "jmd9-8WkXzgt"
      }
    },
    {
      "cell_type": "markdown",
      "source": [
        "# **Análisis y preprocesamiento del Texto**"
      ],
      "metadata": {
        "id": "WKhJae0nfQLH"
      }
    },
    {
      "cell_type": "markdown",
      "source": [
        "####**Longitud de las Oraciones**"
      ],
      "metadata": {
        "id": "wLFe1k_UbgVx"
      }
    },
    {
      "cell_type": "code",
      "source": [
        "print(df[\"review\"].dropna().iloc[0])"
      ],
      "metadata": {
        "id": "ybrULM_-bmNJ"
      },
      "execution_count": null,
      "outputs": []
    },
    {
      "cell_type": "code",
      "source": [
        "df[\"review\"] = df[\"review\"].fillna(\"\")\n",
        "\n",
        "def longitud_oraciones(text):\n",
        "    try:\n",
        "        oraciones = sent_tokenize(text)\n",
        "        if not oraciones:\n",
        "            return pd.Series([0, 0])\n",
        "        len_oraciones = [len(word_tokenize(sent)) for sent in oraciones]\n",
        "        return pd.Series([len(oraciones), sum(len_oraciones) / len(len_oraciones)])\n",
        "    except:\n",
        "        return pd.Series([0, 0])\n",
        "\n",
        "# Aplicamos la función a cada review\n",
        "df[[\"num_sentences\", \"avg_sentence_length\"]] = df[\"review\"].apply(longitud_oraciones)"
      ],
      "metadata": {
        "id": "O1lqMImVbt1w"
      },
      "execution_count": null,
      "outputs": []
    },
    {
      "cell_type": "code",
      "source": [
        "#Vemos la cantidad de oraciones en cada review\n",
        "df[[\"num_sentences\"]]"
      ],
      "metadata": {
        "id": "y5GM3aZ2cr4g"
      },
      "execution_count": null,
      "outputs": []
    },
    {
      "cell_type": "code",
      "source": [
        "#Promedio de oraciones en las reviews\n",
        "df[[\"num_sentences\"]].mean()"
      ],
      "metadata": {
        "id": "-oXcQkpAr8qk"
      },
      "execution_count": null,
      "outputs": []
    },
    {
      "cell_type": "code",
      "source": [
        "# Promedio de largo de cada oracion (en palabras)\n",
        "df['avg_sentence_length']"
      ],
      "metadata": {
        "id": "fMJOP3Hra_Xp"
      },
      "execution_count": null,
      "outputs": []
    },
    {
      "cell_type": "code",
      "source": [
        "plt.figure(figsize=(10, 5))\n",
        "sns.histplot(df[\"avg_sentence_length\"], bins=30, kde=True)\n",
        "plt.title(\"Distribución de la longitud promedio de las oraciones\")\n",
        "plt.xlabel(\"Palabras por oración\")\n",
        "plt.ylabel(\"Frecuencia\")\n",
        "plt.show()"
      ],
      "metadata": {
        "id": "psDt4pC-avU4"
      },
      "execution_count": null,
      "outputs": []
    },
    {
      "cell_type": "markdown",
      "source": [
        "Vemos que la moda se encuentra entre las 15 y 20 palabras por oración."
      ],
      "metadata": {
        "id": "kPVfWhz7dOuZ"
      }
    },
    {
      "cell_type": "markdown",
      "source": [
        "####**Frecuencia de Palabras**"
      ],
      "metadata": {
        "id": "fn8NOZ6CbmhS"
      }
    },
    {
      "cell_type": "code",
      "source": [
        "# Se concatena todas las reviews en un texto\n",
        "\n",
        "text = \" \".join(df[\"review\"].dropna().astype(str))\n",
        "\n",
        "# Tokenizar\n",
        "tokens = word_tokenize(text.lower())  # pasar a minusculas\n",
        "\n",
        "# Quitar puntuaciones, numeros y stopwords\n",
        "stop_words = set(stopwords.words(\"english\"))\n",
        "tokens_cleaned = [\n",
        "    word for word in tokens\n",
        "    if word.isalpha() and word not in stop_words\n",
        "    ]"
      ],
      "metadata": {
        "id": "F1MaztRFbtcR"
      },
      "execution_count": null,
      "outputs": []
    },
    {
      "cell_type": "code",
      "source": [
        "# Contar frecuencia\n",
        "freq_palabras = Counter(tokens_cleaned)\n",
        "\n",
        "top_palabras = freq_palabras.most_common(40)\n",
        "\n",
        "print(top_palabras)"
      ],
      "metadata": {
        "id": "V3Ry8tHTep2E"
      },
      "execution_count": null,
      "outputs": []
    },
    {
      "cell_type": "code",
      "source": [
        "# se convierte la frecuencia de las palabras a un DF para graficar\n",
        "df_frec = pd.DataFrame(top_palabras, columns=[\"word\", \"frequency\"])\n",
        "\n",
        "plt.figure(figsize=(12, 6))\n",
        "sns.barplot(data=df_frec, x=\"frequency\", y=\"word\", palette=\"Blues_d\")\n",
        "plt.title(\"Top 40 palabras mas frecuentes en las reviews\")\n",
        "plt.xlabel(\"Frecuencia\")\n",
        "plt.ylabel(\"Palabra\")\n",
        "plt.tight_layout()\n",
        "plt.show()"
      ],
      "metadata": {
        "id": "YENMdJJPe9w2"
      },
      "execution_count": null,
      "outputs": []
    },
    {
      "cell_type": "markdown",
      "source": [
        "Vemos el top de palabras mas usadas: **Flight, airline, service y time** de las mas comunes entendiblemente. Luego hay algunas interesantes, **hours**, **never, delayed, return, another** , que parece que se refieren a los problemas que son explayados en las reviews."
      ],
      "metadata": {
        "id": "FpMnMCwHf5uU"
      }
    },
    {
      "cell_type": "markdown",
      "source": [
        "####**Partes del Discurso (POS)**"
      ],
      "metadata": {
        "id": "nx3h1AVKbmYv"
      }
    },
    {
      "cell_type": "code",
      "source": [
        "tagged_tokens = pos_tag(tokens)\n",
        "# Agrupar por tipo\n",
        "pos_counts = Counter(tag for word, tag in tagged_tokens)\n",
        "\n",
        "print(pos_counts.most_common(20))"
      ],
      "metadata": {
        "id": "W7XGF7-1bHYe"
      },
      "execution_count": null,
      "outputs": []
    },
    {
      "cell_type": "code",
      "source": [
        "pos_df = pd.DataFrame(pos_counts.items(), columns=[\"POS\", \"Count\"])\n",
        "pos_df = pos_df.sort_values(by=\"Count\", ascending=False).head(10)\n",
        "\n",
        "plt.figure(figsize=(10, 6))\n",
        "sns.barplot(data=pos_df, x=\"Count\", y=\"POS\", palette=\"viridis\")\n",
        "plt.title(\"Top 10 POS tags en reviews\")\n",
        "plt.xlabel(\"Frecuencia\")\n",
        "plt.ylabel(\"Etiqueta POS\")\n",
        "plt.show()"
      ],
      "metadata": {
        "id": "CZQ605-1iD6I"
      },
      "execution_count": null,
      "outputs": []
    },
    {
      "cell_type": "markdown",
      "source": [
        "Vemos que los tipos de palabras mas comunes son los sustantivos en primer lugar, luego los articulos o preposiciones, luego los adjetivos y luego los verbos en pasado."
      ],
      "metadata": {
        "id": "vWl77QUciyfj"
      }
    },
    {
      "cell_type": "markdown",
      "source": [
        "####**Distribución de Longitud de Palabras**"
      ],
      "metadata": {
        "id": "rZ5VrhgGB4uN"
      }
    },
    {
      "cell_type": "code",
      "source": [
        "word_lengths = [len(word) for word in tokens_cleaned]\n",
        "\n",
        "plt.figure(figsize=(10, 6))\n",
        "sns.histplot(word_lengths, bins=range(1, 20), kde=False)\n",
        "plt.title(\"Distribución de longitud de palabras\")\n",
        "plt.xlabel(\"Número de letras\")\n",
        "plt.ylabel(\"Frecuencia\")\n",
        "plt.show()"
      ],
      "metadata": {
        "id": "9mtK8HLVB5KW"
      },
      "execution_count": null,
      "outputs": []
    },
    {
      "cell_type": "markdown",
      "source": [
        "####**Análisis de N-gramas**"
      ],
      "metadata": {
        "id": "KbAmXRBzB6XN"
      }
    },
    {
      "cell_type": "code",
      "source": [
        "# Bigramas\n",
        "bigramas = list(ngrams(tokens_cleaned, 2))\n",
        "bigramas_freq = Counter(bigramas).most_common(20)\n",
        "\n",
        "# Trigramas\n",
        "trigramas = list(ngrams(tokens_cleaned, 3))\n",
        "trigramas_freq = Counter(trigramas).most_common(20)\n",
        "\n",
        "print(\"Top 10 Bigramas:\")\n",
        "for par in bigramas_freq[:10]:\n",
        "    print(par)\n",
        "\n",
        "print(\"\\nTop 10 Trigramas:\")\n",
        "for trio in trigramas_freq[:10]:\n",
        "    print(trio)\n"
      ],
      "metadata": {
        "id": "FItAZu_gB61l"
      },
      "execution_count": null,
      "outputs": []
    },
    {
      "cell_type": "markdown",
      "source": [
        "Aquí podemos ver los bigramas y trigamas que mas frecuencia tienen en las reviews.\n",
        "\n",
        "Notamos que en este caso los bigramas mas comunes suelen ser sustantivos, y los trigramas mas comunes suelen ser descriptivos de la experiencia (por lo visto mayormente negativas)."
      ],
      "metadata": {
        "id": "HDKFEQHVlWUD"
      }
    },
    {
      "cell_type": "markdown",
      "source": [
        "####**Análisis de la Diversidad Léxica**"
      ],
      "metadata": {
        "id": "5JyEzM9MCTfL"
      }
    },
    {
      "cell_type": "markdown",
      "source": [
        "La diversidad lexica seria la cantidad de palabras unicas dividido la cantidad de palabras totales, para analizar que tan variado es el vocabulario, o si suelen ser palabras comunes y repetidas."
      ],
      "metadata": {
        "id": "Lsu6p9b1mFUJ"
      }
    },
    {
      "cell_type": "code",
      "source": [
        "palabras_totales = len(tokens_cleaned)\n",
        "palabras_unicas = len(set(tokens_cleaned))\n",
        "diversidad_lexica = palabras_unicas / palabras_totales\n",
        "\n",
        "print(f\"Diversidad léxica: {diversidad_lexica:.3f}\")"
      ],
      "metadata": {
        "id": "XekuB-U3CT75"
      },
      "execution_count": null,
      "outputs": []
    },
    {
      "cell_type": "markdown",
      "source": [
        "La diversidad de 0.020 es muy baja, por lo que suelen ser palabras comunes y repetidas.\n",
        "\n",
        "A partir de un valor de 0.3 suele ser mas variado, y de mas de 0.7 es muy variado."
      ],
      "metadata": {
        "id": "FM6WKqG3mdxi"
      }
    },
    {
      "cell_type": "markdown",
      "source": [
        "####**Visualización de Palabras con Word Cloud**"
      ],
      "metadata": {
        "id": "wObRulzCCWmx"
      }
    },
    {
      "cell_type": "code",
      "source": [
        "wordcloud = WordCloud(width=1000, height=500, background_color=\"white\").generate(\" \".join(tokens_cleaned))\n",
        "\n",
        "plt.figure(figsize=(15, 7))\n",
        "plt.imshow(wordcloud, interpolation='bilinear')\n",
        "plt.axis(\"off\")\n",
        "plt.title(\"Nube de palabras de las reviews\")\n",
        "plt.show()"
      ],
      "metadata": {
        "id": "KpIrW7MBCXIF"
      },
      "execution_count": null,
      "outputs": []
    },
    {
      "cell_type": "markdown",
      "source": [
        "####**Conclusiones del Analisis exploratorio**"
      ],
      "metadata": {
        "id": "7y65fz63emSb"
      }
    },
    {
      "cell_type": "markdown",
      "source": [
        "Podemos concluir a partir de este analisis, lo siguiente\n",
        "\n",
        "*   La longitud promedio de las oraciones de las reviews ronda entre **15 y 20 palabras.**\n",
        "*   Un promedio de 8.33 oraciones por review.\n",
        "\n",
        "*   Hay bastantes palabras utilizadas muchas veces, pero pocas utilizadas muchisimas veces: ('flight', 42353), ('airline', 12761), ('service', 12697), ('time', 12305).\n",
        "*   Los **bigramas** mas utilizados, son menciones: (('customer', 'service'), 3984)\n",
        "(('cabin', 'crew'), 2463)\n",
        "(('business', 'class'), 2294)\n",
        "\n",
        "\n",
        "*   Y los **trigramas** mas utilziados son mas descriptivos: (('worst', 'airline','ever'), 462)\n",
        "(('flight', 'delayed', 'hours'), 339)\n",
        "(('worst', 'customer', 'service'), 214)\n",
        "(('cabin', 'crew', 'friendly'), 209)\n",
        "\n",
        "    Estos muestran aspectos clave que los pasajeros valoran o critican.\n",
        "\n",
        "\n",
        "\n",
        "*   Se pueden ver temas recurrentes, las reviews se centran mayormente en servicio, comodidad y puntualidad."
      ],
      "metadata": {
        "id": "yAE3ITgmoIKH"
      }
    },
    {
      "cell_type": "markdown",
      "source": [
        "### **Análisis Sintáctico**"
      ],
      "metadata": {
        "id": "nGHEVFW6DnBN"
      }
    },
    {
      "cell_type": "markdown",
      "source": [
        "Podemos ver las relaciones sintacticas en las frases, el tipo de palabra y su relacion con otras."
      ],
      "metadata": {
        "id": "Jp0SBjsXEPko"
      }
    },
    {
      "cell_type": "code",
      "source": [
        "review = df['review'].iloc[422]\n",
        "doc = nlp(review)\n",
        "\n",
        "# Mostrar estructura de las frases\n",
        "for token in doc:\n",
        "    print(f\"{token.text:<15} {token.pos_:<10} {token.dep_:<15} {token.head.text}\")"
      ],
      "metadata": {
        "id": "AmqHV1iRDniV"
      },
      "execution_count": null,
      "outputs": []
    },
    {
      "cell_type": "markdown",
      "source": [
        "###**Análisis Semántico**"
      ],
      "metadata": {
        "id": "SkbZ_PoBE1Zb"
      }
    },
    {
      "cell_type": "markdown",
      "source": [
        "Por ejemplo de una review positiva:"
      ],
      "metadata": {
        "id": "wkizxbq8wZ-4"
      }
    },
    {
      "cell_type": "code",
      "source": [
        "print(df[\"review\"].iloc[0])"
      ],
      "metadata": {
        "id": "v8ABUTbZwXpa"
      },
      "execution_count": null,
      "outputs": []
    },
    {
      "cell_type": "code",
      "source": [
        "review_pos = df['review'].iloc[0]\n",
        "blob = TextBlob(review_pos)\n",
        "print(f\"Polaridad: {blob.sentiment.polarity}, Subjetividad: {blob.sentiment.subjectivity}\")"
      ],
      "metadata": {
        "id": "Inh_Xw-2FrpB"
      },
      "execution_count": null,
      "outputs": []
    },
    {
      "cell_type": "markdown",
      "source": [
        "La polaridad (de -1.0 a +1.0) indica que tan negativa (-1.0) o positiva (+1.0) es. Y la subjetividad (de 0 a 1) indica la objetividad (0.0) a subjetividad (1.0)"
      ],
      "metadata": {
        "id": "ixsnsbHRwiB4"
      }
    },
    {
      "cell_type": "markdown",
      "source": [
        "Un ejemplo de review negativa:"
      ],
      "metadata": {
        "id": "Uw3_KDQ-w86k"
      }
    },
    {
      "cell_type": "code",
      "source": [
        "print(df[\"review\"].iloc[18293])"
      ],
      "metadata": {
        "id": "zqUb8UW2w8nN"
      },
      "execution_count": null,
      "outputs": []
    },
    {
      "cell_type": "code",
      "source": [
        "review_neg = df['review'].iloc[18293]\n",
        "blob = TextBlob(review_neg)\n",
        "print(f\"Polaridad: {blob.sentiment.polarity}, Subjetividad: {blob.sentiment.subjectivity}\")"
      ],
      "metadata": {
        "id": "AEfbEGELxA7t"
      },
      "execution_count": null,
      "outputs": []
    },
    {
      "cell_type": "markdown",
      "source": [
        "En este caso la review siendo la review negativa da una polaridad de -0.38."
      ],
      "metadata": {
        "id": "VUwT9U8txDKb"
      }
    },
    {
      "cell_type": "markdown",
      "source": [
        "###**Codificación de texto a vectores**"
      ],
      "metadata": {
        "id": "V1E3hbAHf7ln"
      }
    },
    {
      "cell_type": "markdown",
      "source": [
        "####Tf-IDF"
      ],
      "metadata": {
        "id": "M0iBTsrAymps"
      }
    },
    {
      "cell_type": "code",
      "source": [
        "reviews = df['review'].dropna().astype(str)\n",
        "\n",
        "# Tokenizer para mantener palabras alfabeticas\n",
        "def clean_tokenizer(text):\n",
        "    return re.findall(r'\\b[a-zA-Z]{2,}\\b', text.lower())\n",
        "\n",
        "# se instancia el TF-IDF\n",
        "tfidf = TfidfVectorizer(tokenizer=clean_tokenizer, stop_words='english', max_df=0.95, min_df=5)\n",
        "\n",
        "# se aplica al corpus\n",
        "X_tfidf = tfidf.fit_transform(reviews)\n",
        "\n",
        "tfidf_df = pd.DataFrame(X_tfidf.toarray(), columns=tfidf.get_feature_names_out())\n",
        "\n",
        "print(tfidf_df.head())"
      ],
      "metadata": {
        "id": "hwjuLcw_0k-u"
      },
      "execution_count": null,
      "outputs": []
    },
    {
      "cell_type": "code",
      "source": [
        "# Puntajes TF-IDF por palabra en todo el corpus\n",
        "puntajes_tf = tfidf_df.sum().sort_values(ascending=False)\n",
        "\n",
        "\n",
        "plt.figure(figsize=(10, 6))\n",
        "puntajes_tf.head(20).plot(kind='bar')\n",
        "plt.title(\"Top 20 Palabras con mayor peso TF-IDF\")\n",
        "plt.ylabel(\"TF-IDF Score\")\n",
        "plt.xticks(rotation=45)\n",
        "plt.tight_layout()\n",
        "plt.show()"
      ],
      "metadata": {
        "id": "-rn7QryL1JJb"
      },
      "execution_count": null,
      "outputs": []
    },
    {
      "cell_type": "markdown",
      "source": [
        "El TF-IDF evalua el peso de las palabras en el contexto en el que están. Muchas son coincidentes con las palabras mas utilziadas"
      ],
      "metadata": {
        "id": "_7lofxdD1VYZ"
      }
    },
    {
      "cell_type": "markdown",
      "source": [
        "####Word Embendings"
      ],
      "metadata": {
        "id": "9Dtq3xHsyq49"
      }
    },
    {
      "cell_type": "markdown",
      "source": [
        "#**Feature Selection**"
      ],
      "metadata": {
        "id": "qsJAf6eVgVsh"
      }
    },
    {
      "cell_type": "markdown",
      "source": [
        "**Selección de variable objetivo y variables independientes**"
      ],
      "metadata": {
        "id": "sQ3rpcC6gHu_"
      }
    },
    {
      "cell_type": "markdown",
      "source": [
        "Utilizando Overall_rating como variable target. En primera instancia probaría como positivo un valor mayor de 5, y negativo como menor que 5 inclusive."
      ],
      "metadata": {
        "id": "_RaLh6om4D-h"
      }
    },
    {
      "cell_type": "code",
      "source": [
        "df = df.dropna(subset=['review', 'overall_rating'])\n",
        "df['overall_rating'] = df['overall_rating'].astype(float)\n",
        "#Se define la calificacion a binario\n",
        "df['label'] = df['overall_rating'].apply(lambda x: 1 if x >= 5 else 0)\n",
        "\n",
        "# variables x\n",
        "X = tfidf.fit_transform(df['review'])\n",
        "\n",
        "# target\n",
        "y = df['label']"
      ],
      "metadata": {
        "id": "25X23itFhSXR"
      },
      "execution_count": null,
      "outputs": []
    },
    {
      "cell_type": "code",
      "source": [
        "df['label'].value_counts()"
      ],
      "metadata": {
        "id": "38kExHm48kxg"
      },
      "execution_count": null,
      "outputs": []
    },
    {
      "cell_type": "markdown",
      "source": [
        "La cantidad de reviews negativas quedo en 16836 y la cantidad de positivas en 6215. Un desbalance que puede afectar al modelo."
      ],
      "metadata": {
        "id": "8nxOxSlU8qT1"
      }
    },
    {
      "cell_type": "markdown",
      "source": [
        "# **Modelos**"
      ],
      "metadata": {
        "id": "EuGuCd8JhWDf"
      }
    },
    {
      "cell_type": "markdown",
      "source": [
        "**División de datos en conjuntos de entrenamiento y prueba**"
      ],
      "metadata": {
        "id": "1k_6rL1Unv_Y"
      }
    },
    {
      "cell_type": "code",
      "source": [
        "# train test split\n",
        "X_train, X_test, y_train, y_test = train_test_split(X, y, test_size=0.2, random_state=42)"
      ],
      "metadata": {
        "id": "vHo3cfZ5nwnB"
      },
      "execution_count": null,
      "outputs": []
    },
    {
      "cell_type": "markdown",
      "source": [
        "###Balanceo de clases"
      ],
      "metadata": {
        "id": "brBUDa3U8dwB"
      }
    },
    {
      "cell_type": "markdown",
      "source": [
        "Al tener una diferencia tan grande entre reviews positivas y negativas hay que hacer un resampling para balancear la cantidad de reviews positivas y negativas, asi el modelo se entrena correctamente."
      ],
      "metadata": {
        "id": "q2thaanc8gE6"
      }
    },
    {
      "cell_type": "code",
      "source": [
        "from imblearn.over_sampling import SMOTE\n",
        "\n",
        "sm = SMOTE(random_state=42)\n",
        "X_resampled, y_resampled = sm.fit_resample(X_train, y_train)"
      ],
      "metadata": {
        "id": "3Z2ycbws5B9O"
      },
      "execution_count": null,
      "outputs": []
    },
    {
      "cell_type": "markdown",
      "source": [
        "##Regresion Logistica"
      ],
      "metadata": {
        "id": "0y043PA2_ik5"
      }
    },
    {
      "cell_type": "code",
      "source": [
        "# Regresion logistica\n",
        "clf = LogisticRegression(C=1, class_weight='balanced')\n",
        "clf.fit(X_resampled, y_resampled)"
      ],
      "metadata": {
        "id": "Cz0p7B9x5Z6n"
      },
      "execution_count": null,
      "outputs": []
    },
    {
      "cell_type": "markdown",
      "source": [
        "**Evaluación del rendimiento del modelo**"
      ],
      "metadata": {
        "id": "sDTCzTn_ihYe"
      }
    },
    {
      "cell_type": "code",
      "source": [
        "# Evaluación\n",
        "y_pred = clf.predict(X_test)\n",
        "print(classification_report(y_test, y_pred))"
      ],
      "metadata": {
        "id": "XWlaQbRanGHn"
      },
      "execution_count": null,
      "outputs": []
    },
    {
      "cell_type": "markdown",
      "source": [
        "**Predicción con conjunto de prueba**"
      ],
      "metadata": {
        "id": "61vZign6qddW"
      }
    },
    {
      "cell_type": "code",
      "source": [
        "review_nueva = [\"The flight was comfortable and the staff were very friendly.\"]\n",
        "\n",
        "# Convertir la review a vector\n",
        "X_new = tfidf.transform(review_nueva)\n",
        "\n",
        "# Prediccion\n",
        "prediction = clf.predict(X_new)\n",
        "proba = clf.predict_proba(X_new)\n",
        "\n",
        "print(\"Predicción:\", \"Positiva\" if prediction[0] == 1 else \"Negativa\")\n",
        "print(\"Probabilidad:\", proba[0])"
      ],
      "metadata": {
        "id": "jFrlWDT5qc-I"
      },
      "execution_count": null,
      "outputs": []
    },
    {
      "cell_type": "markdown",
      "source": [
        "Vemos que la predicción dio una probabilidad de 0.03 de que sea negativa, y una probabilidad de 0.96 de que sea positiva."
      ],
      "metadata": {
        "id": "pvADHYQw6FZ1"
      }
    },
    {
      "cell_type": "code",
      "source": [
        "test_reviews = [\n",
        "    \"The flight was delayed and the food was terrible.\",\n",
        "    \"Fantastic service and very smooth check-in process.\",\n",
        "    \"Seats were okay, nothing special.\",\n",
        "    \"Terrible flight, rude staff, and broken seats.\",\n",
        "    \"One of the best flights I’ve had in years!\"\n",
        "]\n",
        "\n",
        "# Transformar con el mismo vectorizador TF-IDF\n",
        "X_test_reviews = tfidf.transform(test_reviews)\n",
        "\n",
        "# Obtener predicciones y probabilidades\n",
        "predictions = clf.predict(X_test_reviews)\n",
        "probabilities = clf.predict_proba(X_test_reviews)\n",
        "\n",
        "# Mostrar resultados\n",
        "for review, pred, proba in zip(test_reviews, predictions, probabilities):\n",
        "    sentiment = \"Positiva\" if pred == 1 else \"Negativa\"\n",
        "    confidence = proba[1] if pred == 1 else proba[0]\n",
        "\n",
        "    print(f\"📝 Review: {review}\")\n",
        "    print(f\"🔮 Predicción: {sentiment} (Confianza: {confidence:.2f})\")\n",
        "    print(\"-\" * 60)"
      ],
      "metadata": {
        "id": "r_i4QoRV7ltU"
      },
      "execution_count": null,
      "outputs": []
    },
    {
      "cell_type": "markdown",
      "source": [
        "**Conclusión sobre el modelado y las metricas**"
      ],
      "metadata": {
        "id": "cdcyJQcmqoGn"
      }
    },
    {
      "cell_type": "markdown",
      "source": [
        "La regresión logistica dio un resultado bastante aceptable en primera instancia, con una precisión, 0.8 aprox\n",
        "Pero con un recall bajo (58%), el modelo no identifica bien las reviews positivas.\n",
        "\n",
        "F1-score general: aceptable, pero mejorable."
      ],
      "metadata": {
        "id": "scw9T6Ii6PcN"
      }
    },
    {
      "cell_type": "markdown",
      "source": [
        "##Random Forest Classifier"
      ],
      "metadata": {
        "id": "Ia0V9O5T_aAf"
      }
    },
    {
      "cell_type": "code",
      "source": [
        "rf_clf = RandomForestClassifier(n_estimators=100, random_state=42)\n",
        "rf_clf.fit(X_resampled, y_resampled)"
      ],
      "metadata": {
        "id": "LEOrAtZ5_ZjX"
      },
      "execution_count": null,
      "outputs": []
    },
    {
      "cell_type": "code",
      "source": [
        "# Evaluación\n",
        "y_pred = rf_clf.predict(X_test)\n",
        "print(classification_report(y_test, y_pred))"
      ],
      "metadata": {
        "id": "rwN5-NmhRs0N"
      },
      "execution_count": null,
      "outputs": []
    },
    {
      "cell_type": "code",
      "source": [
        "review_nueva = [\"The flight was comfortable and the staff were very friendly.\"]\n",
        "\n",
        "# Convertir la review a vector\n",
        "X_new = tfidf.transform(review_nueva)\n",
        "\n",
        "# Prediccion\n",
        "prediction = rf_clf.predict(X_new)\n",
        "proba = rf_clf.predict_proba(X_new)\n",
        "\n",
        "print(\"Predicción:\", \"Positiva\" if prediction[0] == 1 else \"Negativa\")\n",
        "print(\"Probabilidad:\", proba[0])"
      ],
      "metadata": {
        "id": "Yol8N4mFR6Gi"
      },
      "execution_count": null,
      "outputs": []
    },
    {
      "cell_type": "markdown",
      "source": [
        "##XGBoost + TF-IDF"
      ],
      "metadata": {
        "id": "sxM-H9w0Tm-3"
      }
    },
    {
      "cell_type": "code",
      "source": [
        "xgb = XGBClassifier(\n",
        "    use_label_encoder=False,\n",
        "    eval_metric='logloss',\n",
        "    n_jobs=-1,\n",
        "    random_state=42\n",
        ")\n",
        "\n",
        "# Grid de parametros\n",
        "param_grid = {\n",
        "    'n_estimators': [100, 200],\n",
        "    'max_depth': [3, 6, 10],\n",
        "    'learning_rate': [0.01, 0.1, 0.2],\n",
        "    'subsample': [0.8, 1],\n",
        "    'colsample_bytree': [0.8, 1],\n",
        "    'scale_pos_weight': [1, len(y[y == 0]) / len(y[y == 1])]\n",
        "}\n",
        "\n",
        "# Crear GridSearch\n",
        "grid = GridSearchCV(\n",
        "    estimator=xgb,\n",
        "    param_grid=param_grid,\n",
        "    scoring='f1',\n",
        "    cv=3,\n",
        "    verbose=2\n",
        ")\n",
        "\n",
        "# Entrenamiento\n",
        "grid.fit(X_resampled, y_resampled)"
      ],
      "metadata": {
        "id": "RT_wbKDCTrO6"
      },
      "execution_count": null,
      "outputs": []
    },
    {
      "cell_type": "code",
      "source": [
        "print(\"Mejores parámetros:\", grid.best_params_)\n",
        "\n",
        "best_model = grid.best_estimator_\n",
        "\n",
        "# Evaluar\n",
        "y_pred = best_model.predict(X_test)\n",
        "print(classification_report(y_test, y_pred))"
      ],
      "metadata": {
        "id": "pMnqqqc_URY1"
      },
      "execution_count": null,
      "outputs": []
    },
    {
      "cell_type": "code",
      "source": [
        "new_reviews = [\n",
        "    \"Amazing flight experience, very smooth and clean.\",\n",
        "    \"Worst flight I've ever had, very rude staff.\"\n",
        "]\n",
        "\n",
        "X_new = tfidf.transform(new_reviews)\n",
        "preds = best_model.predict(X_new)\n",
        "probas = best_model.predict_proba(X_new)\n",
        "\n",
        "for review, pred, proba in zip(new_reviews, preds, probas):\n",
        "    label = \"Positiva\" if pred == 1 else \"Negativa\"\n",
        "    print(f\"📝 {review}\")\n",
        "    print(f\"🔮 {label} (Confianza: {proba[pred]:.2f})\\n\")"
      ],
      "metadata": {
        "id": "OowaHZcwUszR"
      },
      "execution_count": null,
      "outputs": []
    },
    {
      "cell_type": "markdown",
      "source": [
        "#**Optimización de modelos**"
      ],
      "metadata": {
        "id": "s4oh4altclpl"
      }
    },
    {
      "cell_type": "code",
      "source": [
        "#Optimizacion de Regresion logistica\n",
        "params = {\n",
        "    'C': [0.1, 1, 10],\n",
        "    'class_weight': [None, 'balanced']\n",
        "}\n",
        "\n",
        "grid = GridSearchCV(LogisticRegression(), params, cv=5, scoring='f1',verbose=2)\n",
        "grid.fit(X_resampled, y_resampled)\n",
        "\n",
        "print(\"Best params:\", grid.best_params_)"
      ],
      "metadata": {
        "id": "MMAxrfskckhu"
      },
      "execution_count": null,
      "outputs": []
    },
    {
      "cell_type": "code",
      "source": [
        "# Optimizacion de Random Forest\n",
        "param_grid = {\n",
        "    'n_estimators': [100, 150],           # Cantidad de árboles\n",
        "    'max_depth': [None, 10, 20],      # Profundidad máxima de los árboles\n",
        "    'min_samples_split': [ 5, 10],      # Mínimo de muestras para dividir un nodo\n",
        "    'min_samples_leaf': [2, 4],        # Mínimo de muestras en una hoja\n",
        "    'max_features': ['sqrt'],     # Qué proporción de features usar\n",
        "    'class_weight': [None, 'balanced']    # Para manejar el desbalance de clases\n",
        "}\n",
        "\n",
        "\n",
        "grid_search = GridSearchCV(\n",
        "    estimator=rf_clf,\n",
        "    param_grid=param_grid,\n",
        "    cv=3,\n",
        "    n_jobs=-1,           # Usa todos los núcleos disponibles\n",
        "    scoring='f1',        # Métrica para evaluar el balance precisión/recall\n",
        "    verbose=2\n",
        ")\n",
        "grid_search.fit(X_resampled, y_resampled)\n",
        "\n",
        "print(\"Mejores parámetros:\", grid_search.best_params_)\n",
        "print(\"Mejor puntaje F1:\", grid_search.best_score_)"
      ],
      "metadata": {
        "id": "ytxJO7LESCdH"
      },
      "execution_count": null,
      "outputs": []
    },
    {
      "cell_type": "markdown",
      "source": [
        "# **Conclusiones Finales**"
      ],
      "metadata": {
        "id": "ivjWtJ6bhZio"
      }
    },
    {
      "cell_type": "markdown",
      "source": [
        "Se puede predecir con cierta precisión el sentimiento de las nuevas reviews que van ingresando a las plataformas, con el fin de categorizarlas y obtener así un insight mayor, sobre la experiencia de usuario y los puntos clave que son valorados o criticados."
      ],
      "metadata": {
        "id": "J_lHwM-WiiGP"
      }
    }
  ]
}